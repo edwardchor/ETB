{
 "cells": [
  {
   "cell_type": "code",
   "execution_count": 51,
   "metadata": {},
   "outputs": [],
   "source": [
    "from datetime import datetime\n",
    "import yfinance as yf\n",
    "\n",
    "SPOT = yf.Ticker(\"SPOT\").history(period=\"max\")\n",
    "START_DATE = datetime.strptime(\"2019-11-01\", \"%Y-%m-%d\")\n",
    "LATEST_DATE = SPOT.index.max()\n",
    "\n",
    "\n",
    "def get_spotify_latest_stock_price():\n",
    "    latest = SPOT.loc[LATEST_DATE]\n",
    "    return latest[\"High\"], latest[\"Low\"], latest[\"Close\"]\n",
    "\n",
    "\n",
    "def get_exercise_profit(amount):\n",
    "    latest_h, latest_low, latest_close = get_spotify_latest_stock_price()\n",
    "    granted_price = SPOT.loc[START_DATE][\"Close\"]\n",
    "    return amount*(latest_close-granted_price)*0.57\n",
    "\n"
   ]
  },
  {
   "cell_type": "code",
   "execution_count": null,
   "metadata": {},
   "outputs": [],
   "source": []
  },
  {
   "cell_type": "code",
   "execution_count": 71,
   "metadata": {},
   "outputs": [],
   "source": [
    "import math\n",
    "from uniplot import plot\n"
   ]
  },
  {
   "cell_type": "code",
   "execution_count": 54,
   "metadata": {},
   "outputs": [],
   "source": [
    "from datetime import timedelta"
   ]
  },
  {
   "cell_type": "code",
   "execution_count": 62,
   "metadata": {},
   "outputs": [],
   "source": []
  },
  {
   "cell_type": "code",
   "execution_count": 64,
   "metadata": {},
   "outputs": [
    {
     "data": {
      "text/plain": [
       "Date\n",
       "2020-12-16    318.529999\n",
       "2020-12-17    328.059998\n",
       "2020-12-18    336.100006\n",
       "2020-12-21    325.570007\n",
       "2020-12-22    321.959991\n",
       "2020-12-23    330.790009\n",
       "2020-12-24    328.390015\n",
       "2020-12-28    317.290009\n",
       "2020-12-29    318.429993\n",
       "2020-12-30    319.350006\n",
       "2020-12-31    314.660004\n",
       "2021-01-04    311.000000\n",
       "2021-01-05    313.720001\n",
       "2021-01-06    314.239990\n",
       "2021-01-07    331.359985\n",
       "2021-01-08    353.109985\n",
       "2021-01-11    344.070007\n",
       "2021-01-12    347.010010\n",
       "2021-01-13    347.059998\n",
       "2021-01-14    342.269989\n",
       "2021-01-15    319.820007\n",
       "Name: Close, dtype: float64"
      ]
     },
     "execution_count": 64,
     "metadata": {},
     "output_type": "execute_result"
    }
   ],
   "source": []
  },
  {
   "cell_type": "code",
   "execution_count": 72,
   "metadata": {},
   "outputs": [],
   "source": [
    "import uniplot"
   ]
  },
  {
   "cell_type": "code",
   "execution_count": 69,
   "metadata": {},
   "outputs": [
    {
     "name": "stdout",
     "output_type": "stream",
     "text": [
      "                  SPOT Stock History 30 Days\n",
      "┌────────────────────────────────────────────────────────────┐\n",
      "│                                            ▝               │ 351\n",
      "│                                                            │ \n",
      "│                                                  ▝  ▝      │ \n",
      "│                                               ▗            │ \n",
      "│                                                        ▝   │ 341\n",
      "│                                                            │ \n",
      "│     ▗                                                      │ \n",
      "│                                                            │ \n",
      "│                                         ▗                  │ 332\n",
      "│              ▝  ▗                                          │ \n",
      "│  ▝                                                         │ \n",
      "│        ▝                                                   │ \n",
      "│           ▗                                                │ 322\n",
      "│▖                         ▗                                ▝│ \n",
      "│                    ▝  ▝                                    │ \n",
      "│                             ▗     ▗  ▗                     │ \n",
      "│                                ▗                           │ 312\n",
      "└────────────────────────────────────────────────────────────┘\n",
      " 1                                                         21\n"
     ]
    }
   ],
   "source": [
    "(SPOT_back_30days[\"Close\"], title=\"SPOT Stock History 30 Days\")"
   ]
  },
  {
   "cell_type": "code",
   "execution_count": 25,
   "metadata": {},
   "outputs": [
    {
     "data": {
      "text/plain": [
       "319.82000732421875"
      ]
     },
     "execution_count": 25,
     "metadata": {},
     "output_type": "execute_result"
    }
   ],
   "source": []
  },
  {
   "cell_type": "code",
   "execution_count": 73,
   "metadata": {},
   "outputs": [
    {
     "name": "stdout",
     "output_type": "stream",
     "text": [
      "\u001b[31mhello\u001b[0m \u001b[32mworld\u001b[0m\n"
     ]
    }
   ],
   "source": []
  },
  {
   "cell_type": "code",
   "execution_count": null,
   "metadata": {},
   "outputs": [],
   "source": []
  }
 ],
 "metadata": {
  "kernelspec": {
   "display_name": "Python 3",
   "language": "python",
   "name": "python3"
  },
  "language_info": {
   "codemirror_mode": {
    "name": "ipython",
    "version": 3
   },
   "file_extension": ".py",
   "mimetype": "text/x-python",
   "name": "python",
   "nbconvert_exporter": "python",
   "pygments_lexer": "ipython3",
   "version": "3.7.6"
  }
 },
 "nbformat": 4,
 "nbformat_minor": 4
}
